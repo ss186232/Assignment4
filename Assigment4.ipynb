{
 "cells": [
  {
   "cell_type": "code",
   "execution_count": 3,
   "metadata": {},
   "outputs": [
    {
     "data": {
      "text/plain": [
       "['Happy', 'students']"
      ]
     },
     "execution_count": 3,
     "metadata": {},
     "output_type": "execute_result"
    }
   ],
   "source": [
    "#Write a function filter_long_words() that takes a list of words and an integer n and returns\n",
    "#the list of words that are longer than n.\n",
    "\n",
    "def filter_long_words(input_lst, n):\n",
    "    return [i for i in input_lst if len(i) > n]\n",
    "\n",
    "\n",
    "filter_long_words(['Happy', 'new', 'year', 'students'], 4)"
   ]
  },
  {
   "cell_type": "code",
   "execution_count": 22,
   "metadata": {},
   "outputs": [
    {
     "name": "stdout",
     "output_type": "stream",
     "text": [
      "s=8\n",
      "a=3\n",
      "b=2\n",
      "c=4\n",
      "area : 30.983866769659336\n"
     ]
    }
   ],
   "source": [
    "#Write a Python Program(with class concepts) to find the area of the triangle using the below\n",
    "#formula.\n",
    "#area = (s*(s-a)*(s-b)*(s-c)) ** 0.5\n",
    "class poly:\n",
    "    def __init__(self,s,a,b,c):\n",
    "        self.s = float(input(\"s=\"))\n",
    "        self.a = float(input(\"a=\"))\n",
    "        self.b = float(input(\"b=\"))\n",
    "        self.c = float(input(\"c=\"))\n",
    "\n",
    "class triangle(poly):\n",
    "    def __init__(self,s,a,b,c):\n",
    "        super().__init__(s,a,b,c)\n",
    "\n",
    "    def get_area(self):\n",
    "        return (s*(s-a)*(s-b)*(s-c)) ** 0.5        \n",
    "\n",
    "t = triangle(s,a,b,c)\n",
    "print(\"area : {}\".format(t.get_area()))\n"
   ]
  },
  {
   "cell_type": "markdown",
   "metadata": {},
   "source": [
    "## "
   ]
  },
  {
   "cell_type": "code",
   "execution_count": 50,
   "metadata": {},
   "outputs": [
    {
     "name": "stdout",
     "output_type": "stream",
     "text": [
      "Enter the alphabet :t\n",
      "False\n"
     ]
    }
   ],
   "source": [
    "#Write a Python function which takes a character (i.e. a string of length 1) and returns True if\n",
    "#it is a vowel, False otherwise.\n",
    "def vowel_input(input_lst):\n",
    "    if len(str(input_lst))==1:\n",
    "        vowel=['a','e','i','o','u']\n",
    "        if input_lst.lower() in vowel:\n",
    "            print(True)\n",
    "        else:\n",
    "            print(False)\n",
    "    else:\n",
    "        print(\"Enter the single character only!!!!!\")\n",
    "    \n",
    "input_lst=str(input(\"Enter the alphabet :\"))\n",
    "output=vowel_input(input_lst)"
   ]
  },
  {
   "cell_type": "code",
   "execution_count": 2,
   "metadata": {},
   "outputs": [
    {
     "name": "stdout",
     "output_type": "stream",
     "text": [
      "[5, 3, 4, 8]\n"
     ]
    }
   ],
   "source": [
    "#Write a Python program using function concept that maps list of words into a list of integers\n",
    "#representing the lengths of the corresponding words.\n",
    "def filter_long_len(input_lst):\n",
    "    x=[]\n",
    "    for i in input_lst:\n",
    "        x.append(len(i))\n",
    "    print(x)\n",
    "\n",
    "\n",
    "filter_long_len(['Happy', 'new', 'year', 'students'])"
   ]
  },
  {
   "cell_type": "code",
   "execution_count": null,
   "metadata": {},
   "outputs": [],
   "source": []
  }
 ],
 "metadata": {
  "kernelspec": {
   "display_name": "Python 3",
   "language": "python",
   "name": "python3"
  },
  "language_info": {
   "codemirror_mode": {
    "name": "ipython",
    "version": 3
   },
   "file_extension": ".py",
   "mimetype": "text/x-python",
   "name": "python",
   "nbconvert_exporter": "python",
   "pygments_lexer": "ipython3",
   "version": "3.8.5"
  }
 },
 "nbformat": 4,
 "nbformat_minor": 4
}
